{
 "cells": [
  {
   "cell_type": "code",
   "execution_count": 2,
   "metadata": {
    "collapsed": true
   },
   "outputs": [],
   "source": [
    "from datetime import datetime\n",
    "import csv\n",
    "import os\n",
    "\n",
    "def formatdate(s):\n",
    "    return datetime.strptime(s, '%Y-%m-%d')\n",
    "\n",
    "\n",
    "match_schema = {\n",
    "    1: ('id', int),\n",
    "    2: ('season', str),\n",
    "    3: ('city', str),\n",
    "    4: ('date', formatdate),\n",
    "    5: ('team1', str),\n",
    "    6: ('team2', str),\n",
    "    7: ('toss_winner', str),\n",
    "    8: ('toss_decision', str),\n",
    "    9: ('result', str),\n",
    "    10: ('dl_applied', int),\n",
    "    11: ('winner', str),\n",
    "    12: ('win_by_runs', int),\n",
    "    13: ('win_by_wickets', int),\n",
    "    14: ('player_of_match', str),\n",
    "    15: ('venue', str),\n",
    "    16: ('umpire1', str),\n",
    "    17: ('umpire2', str),\n",
    "    18: ('umpire3', str),\n",
    "}\n",
    "\n",
    "\n",
    "deliveries_schema = {\n",
    "    1: ('match_id', int),\n",
    "    2: ('inning', int),\n",
    "    3: ('batting_team', str),\n",
    "    4: ('bowling_team', str),\n",
    "    5: ('over', int),\n",
    "    6: ('ball', int),\n",
    "    7: ('batsman', str),\n",
    "    8: ('non_striker', str),\n",
    "    9: ('bowler', str),\n",
    "    10: ('is_super_over', bool),\n",
    "    11: ('wide_runs', int),\n",
    "    12: ('bye_runs', int),\n",
    "    13: ('legbye_runs', int),\n",
    "    14: ('noball_runs', int),\n",
    "    15: ('penalty_runs', int),\n",
    "    16: ('batsman_runs', int),\n",
    "    17: ('extra_runs', int),\n",
    "    18: ('total_runs', int),\n",
    "    19: ('player_dismissed', str),\n",
    "    20: ('dismissal_kind', str),\n",
    "    21: ('fielder', str),\n",
    "}\n",
    "\n",
    "\n",
    "class Delivery:\n",
    "    def __init__(self, parts):\n",
    "        [\n",
    "            setattr(self, deliveries_schema[i+1][0], deliveries_schema[i+1][1](parts[i]))\n",
    "            for i in range(len(parts))\n",
    "        ]\n",
    "\n",
    "\n",
    "class Match:\n",
    "    def __init__(self, parts):\n",
    "        [\n",
    "            setattr(self, match_schema[i+1][0], match_schema[i+1][1](parts[i]))\n",
    "            for i in range(len(parts))\n",
    "        ]\n",
    "\n",
    "        \n",
    "def parse_matches():\n",
    "    with open(\"./matches.csv\") as fp:\n",
    "        reader = csv.reader(fp)\n",
    "        rows = [row for row in csv.reader(fp)]\n",
    "        matches = { int(row[0]) : Match(row) for row in rows[1: ] }\n",
    "    return matches\n",
    "\n",
    "\n",
    "def parse_deliveries():\n",
    "    with open(\"./deliveries.csv\") as fp:\n",
    "        reader = csv.reader(fp)\n",
    "        rows = [row for row in csv.reader(fp)]\n",
    "        deliveries = { int(row[0]) : Delivery(row) for row in rows[1: ] }\n",
    "    return deliveries"
   ]
  },
  {
   "cell_type": "code",
   "execution_count": 12,
   "metadata": {
    "collapsed": false
   },
   "outputs": [
    {
     "name": "stdout",
     "output_type": "stream",
     "text": [
      "77 131\n"
     ]
    }
   ],
   "source": [
    "# find matches where CSK bat first\n",
    "matches = parse_matches()\n",
    "def get_team_batting_first(match):\n",
    "    winner_bats = True if match.toss_decision == 'bat' else False\n",
    "    if winner_bats:\n",
    "        return match.toss_winner\n",
    "    else:\n",
    "        for team in [match.team1, match.team2]:\n",
    "            if team != match.toss_winner:\n",
    "                return team\n",
    "\n",
    "def did_team_play(match, team_name):\n",
    "    return match.team1 == team_name or match.team2 == team_name\n",
    "   \n",
    "\n",
    "csk_played = [did_team_play(match, \"Chennai Super Kings\") for match in matches.values()]\n",
    "first_batting_teams = [get_team_batting_first(match) for match in matches.values()]\n",
    "print sum([1 if team == \"Chennai Super Kings\" else 0 for team in first_batting_teams]), sum(csk_played)"
   ]
  },
  {
   "cell_type": "code",
   "execution_count": null,
   "metadata": {
    "collapsed": true
   },
   "outputs": [],
   "source": []
  }
 ],
 "metadata": {
  "kernelspec": {
   "display_name": "Python 2",
   "language": "python",
   "name": "python2"
  },
  "language_info": {
   "codemirror_mode": {
    "name": "ipython",
    "version": 2
   },
   "file_extension": ".py",
   "mimetype": "text/x-python",
   "name": "python",
   "nbconvert_exporter": "python",
   "pygments_lexer": "ipython2",
   "version": "2.7.11"
  }
 },
 "nbformat": 4,
 "nbformat_minor": 0
}
